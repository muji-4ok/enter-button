{
 "cells": [
  {
   "cell_type": "markdown",
   "metadata": {
    "collapsed": true
   },
   "source": [
    "Data from: https://github.com/ravsimar-sodhi/jibes-and-delights"
   ]
  },
  {
   "cell_type": "code",
   "execution_count": 20,
   "metadata": {},
   "outputs": [],
   "source": [
    "import string\n",
    "import os\n",
    "import signal\n",
    "import torch\n",
    "import torch.nn as nn\n",
    "import torch.nn.functional as F\n",
    "import numpy as np\n",
    "from IPython.display import clear_output\n",
    "import matplotlib.pyplot as plt\n",
    "import pickle\n",
    "\n",
    "interrupt = [False]\n",
    "\n",
    "def sig_handler(signum, frame):\n",
    "    interrupt[0] = True\n",
    "    "
   ]
  },
  {
   "cell_type": "code",
   "execution_count": 3,
   "metadata": {},
   "outputs": [],
   "source": [
    "files = ['insults.txt']\n",
    "\n",
    "text = []\n",
    "for f in files:\n",
    "    with open(f, 'r') as iofile:\n",
    "        text += iofile.readlines()"
   ]
  },
  {
   "cell_type": "code",
   "execution_count": 4,
   "metadata": {},
   "outputs": [
    {
     "name": "stdout",
     "output_type": "stream",
     "text": [
      "68159\n",
      "during inclement weather does your hair function as a umbrella?\n",
      "\n"
     ]
    }
   ],
   "source": [
    "text = [line.lower() for line in text]\n",
    "print(len(text))\n",
    "print(text[0])"
   ]
  },
  {
   "cell_type": "code",
   "execution_count": 5,
   "metadata": {},
   "outputs": [
    {
     "name": "stdout",
     "output_type": "stream",
     "text": [
      "17\n"
     ]
    }
   ],
   "source": [
    "print(min([len(line) for line in text]))"
   ]
  },
  {
   "cell_type": "code",
   "execution_count": 6,
   "metadata": {},
   "outputs": [
    {
     "name": "stdout",
     "output_type": "stream",
     "text": [
      "['\\n', ' ', '!', '\"', '#', '$', '%', '&', \"'\", '(', ')', '*', '+', ',', '-', '.', '/', '0', '1', '2', '3', '4', '5', '6', '7', '8', '9', ':', ';', '=', '?', '@', '[', '\\\\', ']', '^', '_', 'a', 'b', 'c', 'd', 'e', 'f', 'g', 'h', 'i', 'j', 'k', 'l', 'm', 'n', 'o', 'p', 'q', 'r', 's', 't', 'u', 'v', 'w', 'x', 'y', 'z', '|', '~', '£', '©', '®', '°', '´', 'â', 'ä', 'æ', 'è', 'é', 'ê', 'ë', 'ì', 'í', 'ñ', 'ö', 'ü', 'ʖ', '͜', '͠', '͡', 'ε', 'π', 'б', 'е', 'ж', 'й', 'м', 'о', 'ل', '–', '—', '‘', '’', '“', '”', '…', '™', '★', '☑', '♥', '♪', '✄', '✅', '✓', '✔', '⬇', '️', '￼', '🌚', '🍄', '🎳', '🏇', '👏', '💕', '💩', '😂', '😃', '😈', '😜']\n"
     ]
    }
   ],
   "source": [
    "tokens = sorted(set(''.join(text)))\n",
    "print(tokens)"
   ]
  },
  {
   "cell_type": "code",
   "execution_count": 7,
   "metadata": {},
   "outputs": [],
   "source": [
    "class RecurrentNeuralNetwork(nn.Module):\n",
    "    def __init__(self, tokens, embedding_size=16, hidden_dim_size=64, num_layers=1):\n",
    "        super(self.__class__,self).__init__()\n",
    "        self.tokens = tokens\n",
    "        self.token_to_id = dict([(y, x) for (x, y) in enumerate(self.tokens, 0)])\n",
    "        self.id_to_token = dict(enumerate(self.tokens, 0))\n",
    "        \n",
    "        self.embedding = nn.Embedding(len(self.tokens), embedding_size)\n",
    "        self.rnn = nn.LSTM(embedding_size, hidden_dim_size, num_layers=num_layers, batch_first=True)\n",
    "        self.rnn_to_logits = nn.Linear(hidden_dim_size, len(self.tokens))\n",
    "    \n",
    "    def forward(self, x):\n",
    "        assert isinstance(x.data, torch.LongTensor)\n",
    "        h_seq, _ = self.rnn(self.embedding(x))\n",
    "        next_logits = self.rnn_to_logits(h_seq)\n",
    "        next_logp = F.log_softmax(next_logits, dim=-1)\n",
    "        return next_logp"
   ]
  },
  {
   "cell_type": "code",
   "execution_count": 16,
   "metadata": {},
   "outputs": [],
   "source": [
    "class TextDataset(torch.utils.data.IterableDataset):\n",
    "    def __init__(self, text, seq_length, step=1):\n",
    "        self.tokens = sorted(set(''.join(text)))\n",
    "        self.token_to_id = dict([(y, x) for (x, y) in enumerate(self.tokens, 0)])\n",
    "        self.text = [self.token_to_id[char] for char in text]\n",
    "        self.seq_length = seq_length\n",
    "        self.step =step\n",
    "    \n",
    "    def __iter__(self):\n",
    "        self.idx = -self.step\n",
    "        return self\n",
    "    \n",
    "    def __next__(self):\n",
    "        self.idx += self.step\n",
    "        if self.idx <= len(self.text) - seq_length:\n",
    "            return self.text[self.idx : self.idx + seq_length]\n",
    "        else:\n",
    "            raise StopIteration\n",
    "\n",
    "seq_length = 16\n",
    "step = 16"
   ]
  },
  {
   "cell_type": "code",
   "execution_count": 28,
   "metadata": {},
   "outputs": [],
   "source": [
    "def save_state(model, other):\n",
    "    torch.save(model.state_dict(), 'lstm')\n",
    "    with open('other', 'wb') as f:\n",
    "        pickle.dump(other, f)"
   ]
  },
  {
   "cell_type": "code",
   "execution_count": 30,
   "metadata": {},
   "outputs": [],
   "source": [
    "def load_state():\n",
    "    model = RecurrentNeuralNetwork(tokens, 50, 250, 4)\n",
    "    model.load_state_dict(torch.load('lstm'))\n",
    "    with open('other', 'rb') as f:\n",
    "        other = pickle.load(f)\n",
    "    return model, other"
   ]
  },
  {
   "cell_type": "code",
   "execution_count": 47,
   "metadata": {},
   "outputs": [],
   "source": [
    "model = RecurrentNeuralNetwork(tokens, 50, 250, 4)"
   ]
  },
  {
   "cell_type": "code",
   "execution_count": 48,
   "metadata": {},
   "outputs": [],
   "source": [
    "data_loader = torch.utils.data.DataLoader(TextDataset(''.join(text), seq_length, step), batch_size=64)"
   ]
  },
  {
   "cell_type": "code",
   "execution_count": 49,
   "metadata": {},
   "outputs": [],
   "source": [
    "history_model = []\n",
    "local_history = []\n",
    "local_history_length = None"
   ]
  },
  {
   "cell_type": "code",
   "execution_count": 52,
   "metadata": {},
   "outputs": [],
   "source": [
    "model, [data_loader, history_model, local_history, local_history_length] = load_state()"
   ]
  },
  {
   "cell_type": "code",
   "execution_count": 50,
   "metadata": {},
   "outputs": [],
   "source": [
    "opt = torch.optim.Adam(model.parameters())\n",
    "loss = nn.NLLLoss()"
   ]
  },
  {
   "cell_type": "code",
   "execution_count": 53,
   "metadata": {},
   "outputs": [
    {
     "data": {
      "image/png": "[encoded data removed]",
      "text/plain": [
       "<Figure size 1152x576 with 2 Axes>"
      ]
     },
     "metadata": {
      "needs_background": "light"
     },
     "output_type": "display_data"
    },
    {
     "name": "stdout",
     "output_type": "stream",
     "text": [
      "Done\n"
     ]
    }
   ],
   "source": [
    "interrupt = [False]\n",
    "signal.signal(signal.SIGINT, sig_handler)\n",
    "while not interrupt[0]:\n",
    "    for data in data_loader:\n",
    "        \n",
    "        ### TRAIN BLOCK ###\n",
    "        \n",
    "        opt.zero_grad()\n",
    "        batch_ix = torch.stack(data).transpose(0, 1)\n",
    "\n",
    "        logp_seq = model(batch_ix)\n",
    "\n",
    "        predictions_logp = logp_seq[:, :-1].reshape(-1, len(tokens))\n",
    "        actual_next_tokens = batch_ix[:, 1:].reshape(-1)\n",
    "\n",
    "        loss_res = loss(predictions_logp, actual_next_tokens)\n",
    "\n",
    "        loss_res.backward()\n",
    "        opt.step()\n",
    "        \n",
    "        local_history.append(loss_res.data)\n",
    "        \n",
    "        \n",
    "        ### DISPLAY BLOCK ###\n",
    "        \n",
    "        clear_output(True)\n",
    "        fig, axs = plt.subplots(2, figsize=(16, 8))\n",
    "        axs[0].plot(local_history)\n",
    "        axs[1].plot(history_model)\n",
    "        if local_history_length is not None:\n",
    "            axs[0].set_xlim(local_history_length)\n",
    "        axs[0].set_ylabel('Loss')\n",
    "        axs[1].set_ylabel('Loss')\n",
    "        axs[0].set_title('Local history')\n",
    "        axs[1].set_title('Epoch history')\n",
    "        plt.show()\n",
    "        \n",
    "        ### SAVE AND INTERRUPT BLOCK ###\n",
    "        \n",
    "        save_state(model, [data_loader, history_model, local_history, local_history_length])\n",
    "        if interrupt[0]:\n",
    "            break\n",
    "    \n",
    "    if not interrupt[0]:\n",
    "        local_history_length = len(local_history)\n",
    "        local_history = []\n",
    "        history_model.append(loss_res.data)\n",
    "print('Done')"
   ]
  }
 ],
 "metadata": {
  "kernelspec": {
   "display_name": "Python 3 (ipykernel)",
   "language": "python",
   "name": "python3"
  },
  "language_info": {
   "codemirror_mode": {
    "name": "ipython",
    "version": 3
   },
   "file_extension": ".py",
   "mimetype": "text/x-python",
   "name": "python",
   "nbconvert_exporter": "python",
   "pygments_lexer": "ipython3",
   "version": "3.9.1"
  }
 },
 "nbformat": 4,
 "nbformat_minor": 1
}
