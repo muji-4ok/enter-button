{
 "cells": [
  {
   "cell_type": "markdown",
   "metadata": {
    "collapsed": true
   },
   "source": [
    "Data from: https://github.com/ravsimar-sodhi/jibes-and-delights"
   ]
  },
  {
   "cell_type": "code",
   "execution_count": 24,
   "metadata": {},
   "outputs": [],
   "source": [
    "import string\n",
    "import os\n",
    "import signal\n",
    "interrupt = [False]\n",
    "\n",
    "def sig_handler(signum, frame):\n",
    "    interrupt[0] = True\n",
    "    \n",
    "import torch\n",
    "import torch.nn as nn\n",
    "import torch.nn.functional as F\n",
    "import numpy as np\n",
    "from IPython.display import clear_output\n",
    "import matplotlib.pyplot as plt"
   ]
  },
  {
   "cell_type": "code",
   "execution_count": 22,
   "metadata": {},
   "outputs": [
    {
     "name": "stdout",
     "output_type": "stream",
     "text": [
      "68159\n",
      "During inclement weather does your hair function as a umbrella?\n",
      "\n"
     ]
    }
   ],
   "source": [
    "files = ['comment.dev.0', 'comment.test.0', 'comment.train.0']\n",
    "\n",
    "text = []\n",
    "for f in files:\n",
    "    with open(f, 'r') as iofile:\n",
    "        text += iofile.readlines()\n",
    "\n",
    "print(len(text))\n",
    "print(text[0])"
   ]
  },
  {
   "cell_type": "code",
   "execution_count": 23,
   "metadata": {},
   "outputs": [
    {
     "name": "stdout",
     "output_type": "stream",
     "text": [
      "68159\n",
      "during inclement weather does your hair function as a umbrella?\n",
      "\n"
     ]
    }
   ],
   "source": [
    "text = [line.lower() for line in text]\n",
    "print(len(text))\n",
    "print(text[0])"
   ]
  },
  {
   "cell_type": "code",
   "execution_count": 35,
   "metadata": {},
   "outputs": [
    {
     "name": "stdout",
     "output_type": "stream",
     "text": [
      "17\n"
     ]
    }
   ],
   "source": [
    "print(min([len(line) for line in text]))"
   ]
  },
  {
   "cell_type": "code",
   "execution_count": 26,
   "metadata": {},
   "outputs": [
    {
     "name": "stdout",
     "output_type": "stream",
     "text": [
      "['\\n', ' ', '!', '\"', '#', '$', '%', '&', \"'\", '(', ')', '*', '+', ',', '-', '.', '/', '0', '1', '2', '3', '4', '5', '6', '7', '8', '9', ':', ';', '=', '?', '@', '[', '\\\\', ']', '^', '_', 'a', 'b', 'c', 'd', 'e', 'f', 'g', 'h', 'i', 'j', 'k', 'l', 'm', 'n', 'o', 'p', 'q', 'r', 's', 't', 'u', 'v', 'w', 'x', 'y', 'z', '|', '~', '£', '©', '®', '°', '´', 'â', 'ä', 'æ', 'è', 'é', 'ê', 'ë', 'ì', 'í', 'ñ', 'ö', 'ü', 'ʖ', '͜', '͠', '͡', 'ε', 'π', 'б', 'е', 'ж', 'й', 'м', 'о', 'ل', '–', '—', '‘', '’', '“', '”', '…', '™', '★', '☑', '♥', '♪', '✄', '✅', '✓', '✔', '⬇', '️', '￼', '🌚', '🍄', '🎳', '🏇', '👏', '💕', '💩', '😂', '😃', '😈', '😜']\n"
     ]
    }
   ],
   "source": [
    "tokens = sorted(set(''.join(text)))\n",
    "print(tokens)"
   ]
  },
  {
   "cell_type": "code",
   "execution_count": 25,
   "metadata": {},
   "outputs": [],
   "source": [
    "class RecurrentNeuralNetwork(nn.Module):\n",
    "    def __init__(self, tokens, embedding_size=16, hidden_dim_size=64, num_layers=1):\n",
    "        super(self.__class__,self).__init__()\n",
    "        self.tokens = tokens\n",
    "        self.token_to_id = dict([(y, x) for (x, y) in enumerate(self.tokens, 0)])\n",
    "        self.id_to_token = dict(enumerate(self.tokens, 0))\n",
    "        \n",
    "        self.embedding = nn.Embedding(len(self.tokens), embedding_size)\n",
    "        self.rnn = nn.LSTM(embedding_size, hidden_dim_size, num_layers=num_layers, batch_first=True)\n",
    "        self.rnn_to_logits = nn.Linear(hidden_dim_size, len(self.tokens))\n",
    "    \n",
    "    def forward(self, x):\n",
    "        assert isinstance(x.data, torch.LongTensor)\n",
    "        h_seq, _ = self.rnn(self.embedding(x))\n",
    "        next_logits = self.rnn_to_logits(h_seq)\n",
    "        next_logp = F.log_softmax(next_logits, dim=-1)\n",
    "        return next_logp"
   ]
  },
  {
   "cell_type": "code",
   "execution_count": 27,
   "metadata": {},
   "outputs": [],
   "source": [
    "model = RecurrentNeuralNetwork(tokens, 50, 250, 4)"
   ]
  },
  {
   "cell_type": "code",
   "execution_count": 28,
   "metadata": {},
   "outputs": [],
   "source": [
    "opt = torch.optim.Adam(model.parameters())\n",
    "loss = nn.NLLLoss()"
   ]
  },
  {
   "cell_type": "code",
   "execution_count": 29,
   "metadata": {},
   "outputs": [],
   "source": [
    "history_model = []"
   ]
  },
  {
   "cell_type": "code",
   "execution_count": 32,
   "metadata": {},
   "outputs": [],
   "source": [
    "dataloader = torch.utils.data.DataLoader([[model.token_to_id[char] for char in line] for line in text], batch_size=64, shuffle=True)"
   ]
  },
  {
   "cell_type": "code",
   "execution_count": 33,
   "metadata": {},
   "outputs": [
    {
     "ename": "RuntimeError",
     "evalue": "each element in list of batch should be of equal size",
     "output_type": "error",
     "traceback": [
      "\u001b[0;31m---------------------------------------------------------------------------\u001b[0m",
      "\u001b[0;31mRuntimeError\u001b[0m                              Traceback (most recent call last)",
      "\u001b[0;32m/tmp/ipykernel_80047/3794864350.py\u001b[0m in \u001b[0;36m<module>\u001b[0;34m\u001b[0m\n\u001b[1;32m      2\u001b[0m \u001b[0msignal\u001b[0m\u001b[0;34m.\u001b[0m\u001b[0msignal\u001b[0m\u001b[0;34m(\u001b[0m\u001b[0msignal\u001b[0m\u001b[0;34m.\u001b[0m\u001b[0mSIGINT\u001b[0m\u001b[0;34m,\u001b[0m \u001b[0msig_handler\u001b[0m\u001b[0;34m)\u001b[0m\u001b[0;34m\u001b[0m\u001b[0;34m\u001b[0m\u001b[0m\n\u001b[1;32m      3\u001b[0m \u001b[0;32mwhile\u001b[0m \u001b[0;32mnot\u001b[0m \u001b[0minterrupt\u001b[0m\u001b[0;34m[\u001b[0m\u001b[0;36m0\u001b[0m\u001b[0;34m]\u001b[0m\u001b[0;34m:\u001b[0m\u001b[0;34m\u001b[0m\u001b[0;34m\u001b[0m\u001b[0m\n\u001b[0;32m----> 4\u001b[0;31m     \u001b[0;32mfor\u001b[0m \u001b[0mdata\u001b[0m \u001b[0;32min\u001b[0m \u001b[0mdataloader\u001b[0m\u001b[0;34m:\u001b[0m\u001b[0;34m\u001b[0m\u001b[0;34m\u001b[0m\u001b[0m\n\u001b[0m\u001b[1;32m      5\u001b[0m         \u001b[0mopt\u001b[0m\u001b[0;34m.\u001b[0m\u001b[0mzero_grad\u001b[0m\u001b[0;34m(\u001b[0m\u001b[0;34m)\u001b[0m\u001b[0;34m\u001b[0m\u001b[0;34m\u001b[0m\u001b[0m\n\u001b[1;32m      6\u001b[0m         \u001b[0mbatch_ix\u001b[0m \u001b[0;34m=\u001b[0m \u001b[0mtorch\u001b[0m\u001b[0;34m.\u001b[0m\u001b[0mstack\u001b[0m\u001b[0;34m(\u001b[0m\u001b[0mdata\u001b[0m\u001b[0;34m)\u001b[0m\u001b[0;34m.\u001b[0m\u001b[0mtranspose\u001b[0m\u001b[0;34m(\u001b[0m\u001b[0;36m0\u001b[0m\u001b[0;34m,\u001b[0m \u001b[0;36m1\u001b[0m\u001b[0;34m)\u001b[0m\u001b[0;34m\u001b[0m\u001b[0;34m\u001b[0m\u001b[0m\n",
      "\u001b[0;32m~/.pyenv/versions/3.9.1/lib/python3.9/site-packages/torch/utils/data/dataloader.py\u001b[0m in \u001b[0;36m__next__\u001b[0;34m(self)\u001b[0m\n\u001b[1;32m    519\u001b[0m             \u001b[0;32mif\u001b[0m \u001b[0mself\u001b[0m\u001b[0;34m.\u001b[0m\u001b[0m_sampler_iter\u001b[0m \u001b[0;32mis\u001b[0m \u001b[0;32mNone\u001b[0m\u001b[0;34m:\u001b[0m\u001b[0;34m\u001b[0m\u001b[0;34m\u001b[0m\u001b[0m\n\u001b[1;32m    520\u001b[0m                 \u001b[0mself\u001b[0m\u001b[0;34m.\u001b[0m\u001b[0m_reset\u001b[0m\u001b[0;34m(\u001b[0m\u001b[0;34m)\u001b[0m\u001b[0;34m\u001b[0m\u001b[0;34m\u001b[0m\u001b[0m\n\u001b[0;32m--> 521\u001b[0;31m             \u001b[0mdata\u001b[0m \u001b[0;34m=\u001b[0m \u001b[0mself\u001b[0m\u001b[0;34m.\u001b[0m\u001b[0m_next_data\u001b[0m\u001b[0;34m(\u001b[0m\u001b[0;34m)\u001b[0m\u001b[0;34m\u001b[0m\u001b[0;34m\u001b[0m\u001b[0m\n\u001b[0m\u001b[1;32m    522\u001b[0m             \u001b[0mself\u001b[0m\u001b[0;34m.\u001b[0m\u001b[0m_num_yielded\u001b[0m \u001b[0;34m+=\u001b[0m \u001b[0;36m1\u001b[0m\u001b[0;34m\u001b[0m\u001b[0;34m\u001b[0m\u001b[0m\n\u001b[1;32m    523\u001b[0m             \u001b[0;32mif\u001b[0m \u001b[0mself\u001b[0m\u001b[0;34m.\u001b[0m\u001b[0m_dataset_kind\u001b[0m \u001b[0;34m==\u001b[0m \u001b[0m_DatasetKind\u001b[0m\u001b[0;34m.\u001b[0m\u001b[0mIterable\u001b[0m \u001b[0;32mand\u001b[0m\u001b[0;31m \u001b[0m\u001b[0;31m\\\u001b[0m\u001b[0;34m\u001b[0m\u001b[0;34m\u001b[0m\u001b[0m\n",
      "\u001b[0;32m~/.pyenv/versions/3.9.1/lib/python3.9/site-packages/torch/utils/data/dataloader.py\u001b[0m in \u001b[0;36m_next_data\u001b[0;34m(self)\u001b[0m\n\u001b[1;32m    559\u001b[0m     \u001b[0;32mdef\u001b[0m \u001b[0m_next_data\u001b[0m\u001b[0;34m(\u001b[0m\u001b[0mself\u001b[0m\u001b[0;34m)\u001b[0m\u001b[0;34m:\u001b[0m\u001b[0;34m\u001b[0m\u001b[0;34m\u001b[0m\u001b[0m\n\u001b[1;32m    560\u001b[0m         \u001b[0mindex\u001b[0m \u001b[0;34m=\u001b[0m \u001b[0mself\u001b[0m\u001b[0;34m.\u001b[0m\u001b[0m_next_index\u001b[0m\u001b[0;34m(\u001b[0m\u001b[0;34m)\u001b[0m  \u001b[0;31m# may raise StopIteration\u001b[0m\u001b[0;34m\u001b[0m\u001b[0;34m\u001b[0m\u001b[0m\n\u001b[0;32m--> 561\u001b[0;31m         \u001b[0mdata\u001b[0m \u001b[0;34m=\u001b[0m \u001b[0mself\u001b[0m\u001b[0;34m.\u001b[0m\u001b[0m_dataset_fetcher\u001b[0m\u001b[0;34m.\u001b[0m\u001b[0mfetch\u001b[0m\u001b[0;34m(\u001b[0m\u001b[0mindex\u001b[0m\u001b[0;34m)\u001b[0m  \u001b[0;31m# may raise StopIteration\u001b[0m\u001b[0;34m\u001b[0m\u001b[0;34m\u001b[0m\u001b[0m\n\u001b[0m\u001b[1;32m    562\u001b[0m         \u001b[0;32mif\u001b[0m \u001b[0mself\u001b[0m\u001b[0;34m.\u001b[0m\u001b[0m_pin_memory\u001b[0m\u001b[0;34m:\u001b[0m\u001b[0;34m\u001b[0m\u001b[0;34m\u001b[0m\u001b[0m\n\u001b[1;32m    563\u001b[0m             \u001b[0mdata\u001b[0m \u001b[0;34m=\u001b[0m \u001b[0m_utils\u001b[0m\u001b[0;34m.\u001b[0m\u001b[0mpin_memory\u001b[0m\u001b[0;34m.\u001b[0m\u001b[0mpin_memory\u001b[0m\u001b[0;34m(\u001b[0m\u001b[0mdata\u001b[0m\u001b[0;34m)\u001b[0m\u001b[0;34m\u001b[0m\u001b[0;34m\u001b[0m\u001b[0m\n",
      "\u001b[0;32m~/.pyenv/versions/3.9.1/lib/python3.9/site-packages/torch/utils/data/_utils/fetch.py\u001b[0m in \u001b[0;36mfetch\u001b[0;34m(self, possibly_batched_index)\u001b[0m\n\u001b[1;32m     50\u001b[0m         \u001b[0;32melse\u001b[0m\u001b[0;34m:\u001b[0m\u001b[0;34m\u001b[0m\u001b[0;34m\u001b[0m\u001b[0m\n\u001b[1;32m     51\u001b[0m             \u001b[0mdata\u001b[0m \u001b[0;34m=\u001b[0m \u001b[0mself\u001b[0m\u001b[0;34m.\u001b[0m\u001b[0mdataset\u001b[0m\u001b[0;34m[\u001b[0m\u001b[0mpossibly_batched_index\u001b[0m\u001b[0;34m]\u001b[0m\u001b[0;34m\u001b[0m\u001b[0;34m\u001b[0m\u001b[0m\n\u001b[0;32m---> 52\u001b[0;31m         \u001b[0;32mreturn\u001b[0m \u001b[0mself\u001b[0m\u001b[0;34m.\u001b[0m\u001b[0mcollate_fn\u001b[0m\u001b[0;34m(\u001b[0m\u001b[0mdata\u001b[0m\u001b[0;34m)\u001b[0m\u001b[0;34m\u001b[0m\u001b[0;34m\u001b[0m\u001b[0m\n\u001b[0m",
      "\u001b[0;32m~/.pyenv/versions/3.9.1/lib/python3.9/site-packages/torch/utils/data/_utils/collate.py\u001b[0m in \u001b[0;36mdefault_collate\u001b[0;34m(batch)\u001b[0m\n\u001b[1;32m     80\u001b[0m         \u001b[0melem_size\u001b[0m \u001b[0;34m=\u001b[0m \u001b[0mlen\u001b[0m\u001b[0;34m(\u001b[0m\u001b[0mnext\u001b[0m\u001b[0;34m(\u001b[0m\u001b[0mit\u001b[0m\u001b[0;34m)\u001b[0m\u001b[0;34m)\u001b[0m\u001b[0;34m\u001b[0m\u001b[0;34m\u001b[0m\u001b[0m\n\u001b[1;32m     81\u001b[0m         \u001b[0;32mif\u001b[0m \u001b[0;32mnot\u001b[0m \u001b[0mall\u001b[0m\u001b[0;34m(\u001b[0m\u001b[0mlen\u001b[0m\u001b[0;34m(\u001b[0m\u001b[0melem\u001b[0m\u001b[0;34m)\u001b[0m \u001b[0;34m==\u001b[0m \u001b[0melem_size\u001b[0m \u001b[0;32mfor\u001b[0m \u001b[0melem\u001b[0m \u001b[0;32min\u001b[0m \u001b[0mit\u001b[0m\u001b[0;34m)\u001b[0m\u001b[0;34m:\u001b[0m\u001b[0;34m\u001b[0m\u001b[0;34m\u001b[0m\u001b[0m\n\u001b[0;32m---> 82\u001b[0;31m             \u001b[0;32mraise\u001b[0m \u001b[0mRuntimeError\u001b[0m\u001b[0;34m(\u001b[0m\u001b[0;34m'each element in list of batch should be of equal size'\u001b[0m\u001b[0;34m)\u001b[0m\u001b[0;34m\u001b[0m\u001b[0;34m\u001b[0m\u001b[0m\n\u001b[0m\u001b[1;32m     83\u001b[0m         \u001b[0mtransposed\u001b[0m \u001b[0;34m=\u001b[0m \u001b[0mzip\u001b[0m\u001b[0;34m(\u001b[0m\u001b[0;34m*\u001b[0m\u001b[0mbatch\u001b[0m\u001b[0;34m)\u001b[0m\u001b[0;34m\u001b[0m\u001b[0;34m\u001b[0m\u001b[0m\n\u001b[1;32m     84\u001b[0m         \u001b[0;32mreturn\u001b[0m \u001b[0;34m[\u001b[0m\u001b[0mdefault_collate\u001b[0m\u001b[0;34m(\u001b[0m\u001b[0msamples\u001b[0m\u001b[0;34m)\u001b[0m \u001b[0;32mfor\u001b[0m \u001b[0msamples\u001b[0m \u001b[0;32min\u001b[0m \u001b[0mtransposed\u001b[0m\u001b[0;34m]\u001b[0m\u001b[0;34m\u001b[0m\u001b[0;34m\u001b[0m\u001b[0m\n",
      "\u001b[0;31mRuntimeError\u001b[0m: each element in list of batch should be of equal size"
     ]
    }
   ],
   "source": [
    "interrupt = [False]\n",
    "signal.signal(signal.SIGINT, sig_handler)\n",
    "while not interrupt[0]:\n",
    "    for data in dataloader:\n",
    "        opt.zero_grad()\n",
    "        batch_ix = torch.stack(data).transpose(0, 1)\n",
    "\n",
    "        logp_seq = model(batch_ix)\n",
    "\n",
    "        predictions_logp = logp_seq[:, :-1].reshape(-1, len(tokens))\n",
    "        actual_next_tokens = batch_ix[:, 1:].reshape(-1)\n",
    "\n",
    "        loss_res = loss(predictions_logp, actual_next_tokens)\n",
    "\n",
    "        # train with backprop\n",
    "        loss_res.backward()\n",
    "        opt.step()\n",
    "    \n",
    "    history_model.append(loss_res.data)\n",
    "    clear_output(True)\n",
    "    plt.figure(figsize=(18,6))\n",
    "    plt.plot(history_model,label='loss')\n",
    "    plt.legend()\n",
    "    plt.show()\n",
    "print('Done')"
   ]
  },
  {
   "cell_type": "code",
   "execution_count": null,
   "metadata": {},
   "outputs": [],
   "source": []
  },
  {
   "cell_type": "code",
   "execution_count": null,
   "metadata": {},
   "outputs": [],
   "source": []
  },
  {
   "cell_type": "code",
   "execution_count": 38,
   "metadata": {},
   "outputs": [
    {
     "name": "stdout",
     "output_type": "stream",
     "text": [
      "5517989\n"
     ]
    }
   ],
   "source": [
    "new_text = ''.join(text)\n",
    "print(len(new_text))"
   ]
  },
  {
   "cell_type": "code",
   "execution_count": 36,
   "metadata": {},
   "outputs": [],
   "source": [
    "class RecurrentNeuralNetwork():\n",
    "    def __init__(self, text, embedding_size=16, hidden_dim_size=64, num_layers=1):\n",
    "        class LSTM_RNN(nn.Module):\n",
    "            def __init__(self, vocab_size, embedding_size, hidden_dim_size):\n",
    "                super(self.__class__,self).__init__()\n",
    "                self.embedding = nn.Embedding(vocab_size, embedding_size)\n",
    "                self.rnn = nn.LSTM(embedding_size, hidden_dim_size, num_layers=num_layers, batch_first=True)\n",
    "                self.rnn_to_logits = nn.Linear(hidden_dim_size, vocab_size)\n",
    "\n",
    "            def forward(self, x):\n",
    "                assert isinstance(x.data, torch.LongTensor)\n",
    "                h_seq, _ = self.rnn(self.embedding(x))\n",
    "                next_logits = self.rnn_to_logits(h_seq)\n",
    "                next_logp = F.log_softmax(next_logits, dim=-1)\n",
    "                return next_logp\n",
    "        self.text = ''.join(text).lower()\n",
    "        self.tokens = sorted(set(self.text))\n",
    "        self.token_to_id = dict([(y, x) for (x, y) in enumerate(self.tokens, 0)])\n",
    "        self.id_to_token = dict(enumerate(self.tokens, 0))\n",
    "        self.model = LSTM_RNN(len(self.tokens), embedding_size, hidden_dim_size)\n",
    "        self.opt = torch.optim.Adam(self.model.parameters())\n",
    "        self.loss = nn.NLLLoss()\n",
    "    \n",
    "    def train_cycle(self, data_loader, history):\n",
    "        for data in data_loader:\n",
    "            self.opt.zero_grad()\n",
    "            batch_ix = torch.stack(data).transpose(0, 1)\n",
    "\n",
    "            logp_seq = self.model(batch_ix)\n",
    "\n",
    "            predictions_logp = logp_seq[:, :-1].reshape(-1, len(self.tokens))\n",
    "            actual_next_tokens = batch_ix[:, 1:].reshape(-1)\n",
    "\n",
    "            loss = self.loss(predictions_logp, actual_next_tokens)\n",
    "\n",
    "            # train with backprop\n",
    "            loss.backward()\n",
    "            self.opt.step()\n",
    "        history.append(loss.data)\n",
    "        \n",
    "    def generate_sample(self, seed_phrase, length=100, temperature=1.0):\n",
    "        x_sequence = [self.token_to_id[char] for char in seed_phrase]\n",
    "        x_sequence = torch.tensor([x_sequence])\n",
    "\n",
    "        while x_sequence[-1] != '\\n' and len(x_sequence) < lenght:\n",
    "            out = self.model(x_sequence)[:, -1, :]\n",
    "            p_next = F.softmax(out / temperature, dim=-1).data.numpy()[0]\n",
    "\n",
    "            next_ix = np.random.choice(len(self.tokens), p=p_next)\n",
    "            next_ix = torch.tensor([[next_ix]], dtype=torch.int64)\n",
    "            x_sequence = torch.cat([x_sequence, next_ix], dim=1)\n",
    "\n",
    "        return ''.join([self.id_to_token[ix] for ix in x_sequence.data.numpy()[0]])"
   ]
  },
  {
   "cell_type": "code",
   "execution_count": 37,
   "metadata": {},
   "outputs": [],
   "source": [
    "class TextDataset(torch.utils.data.IterableDataset):\n",
    "    def __init__(self, model, seq_length, step=1):\n",
    "        self.text = [model.token_to_id[char] for char in model.text]\n",
    "        self.seq_length = seq_length\n",
    "        self.step =step\n",
    "    \n",
    "    def __iter__(self):\n",
    "        self.idx = -self.step\n",
    "        return self\n",
    "    \n",
    "    def __next__(self):\n",
    "        self.idx += self.step\n",
    "        if self.idx <= len(self.text) - seq_length:\n",
    "            return self.text[self.idx : self.idx + seq_length]\n",
    "        else:\n",
    "            raise StopIteration\n",
    "\n",
    "seq_length = 16\n",
    "step = 16"
   ]
  },
  {
   "cell_type": "code",
   "execution_count": 39,
   "metadata": {},
   "outputs": [],
   "source": [
    "model = RecurrentNeuralNetwork(text=text, embedding_size=50, hidden_dim_size=250, num_layers=4)"
   ]
  },
  {
   "cell_type": "code",
   "execution_count": 40,
   "metadata": {},
   "outputs": [],
   "source": [
    "data_loader = torch.utils.data.DataLoader(TextDataset(model, seq_length, step), batch_size=32)"
   ]
  },
  {
   "cell_type": "code",
   "execution_count": 41,
   "metadata": {},
   "outputs": [],
   "source": [
    "history_model = []"
   ]
  },
  {
   "cell_type": "code",
   "execution_count": 42,
   "metadata": {},
   "outputs": [
    {
     "data": {
      "image/png": "[encoded data removed]",
      "text/plain": [
       "<Figure size 1296x432 with 1 Axes>"
      ]
     },
     "metadata": {
      "needs_background": "light"
     },
     "output_type": "display_data"
    },
    {
     "name": "stdout",
     "output_type": "stream",
     "text": [
      "Done\n"
     ]
    }
   ],
   "source": [
    "interrupt = [False]\n",
    "signal.signal(signal.SIGINT, sig_handler)\n",
    "while not interrupt[0]:\n",
    "    model.train_cycle(data_loader, history_model)\n",
    "    clear_output(True)\n",
    "    plt.figure(figsize=(18,6))\n",
    "    plt.plot(history_model,label='loss')\n",
    "    plt.legend()\n",
    "    plt.show()\n",
    "print('Done')"
   ]
  },
  {
   "cell_type": "code",
   "execution_count": 50,
   "metadata": {},
   "outputs": [],
   "source": [
    "def generate_sample(model, seed_phrase, length=100, temperature=1.0):\n",
    "    x_sequence = [model.token_to_id[char] for char in seed_phrase]\n",
    "    x_sequence = torch.tensor([x_sequence])\n",
    "\n",
    "    while x_sequence[-1] != '\\n' and len(x_sequence) < length:\n",
    "        out = model.model(x_sequence)[:, -1, :]\n",
    "        p_next = F.softmax(out / temperature, dim=-1).data.numpy()[0]\n",
    "\n",
    "        next_ix = np.random.choice(len(model.tokens), p=p_next)\n",
    "        next_ix = torch.tensor([[next_ix]], dtype=torch.int64)\n",
    "        x_sequence = torch.cat([x_sequence, next_ix], dim=1)\n",
    "        print(model.id_to_token[next_ix])\n",
    "\n",
    "    return ''.join([model.id_to_token[ix] for ix in x_sequence.data.numpy()[0]])"
   ]
  },
  {
   "cell_type": "code",
   "execution_count": 51,
   "metadata": {},
   "outputs": [
    {
     "ename": "KeyError",
     "evalue": "tensor([[43]])",
     "output_type": "error",
     "traceback": [
      "\u001b[0;31m---------------------------------------------------------------------------\u001b[0m",
      "\u001b[0;31mKeyError\u001b[0m                                  Traceback (most recent call last)",
      "\u001b[0;32m/tmp/ipykernel_80047/1049406642.py\u001b[0m in \u001b[0;36m<module>\u001b[0;34m\u001b[0m\n\u001b[0;32m----> 1\u001b[0;31m \u001b[0mgenerate_sample\u001b[0m\u001b[0;34m(\u001b[0m\u001b[0mmodel\u001b[0m\u001b[0;34m,\u001b[0m \u001b[0;34m'you '\u001b[0m\u001b[0;34m,\u001b[0m \u001b[0mlength\u001b[0m\u001b[0;34m=\u001b[0m\u001b[0;36m10\u001b[0m\u001b[0;34m)\u001b[0m\u001b[0;34m\u001b[0m\u001b[0;34m\u001b[0m\u001b[0m\n\u001b[0m",
      "\u001b[0;32m/tmp/ipykernel_80047/4139746656.py\u001b[0m in \u001b[0;36mgenerate_sample\u001b[0;34m(model, seed_phrase, length, temperature)\u001b[0m\n\u001b[1;32m     10\u001b[0m         \u001b[0mnext_ix\u001b[0m \u001b[0;34m=\u001b[0m \u001b[0mtorch\u001b[0m\u001b[0;34m.\u001b[0m\u001b[0mtensor\u001b[0m\u001b[0;34m(\u001b[0m\u001b[0;34m[\u001b[0m\u001b[0;34m[\u001b[0m\u001b[0mnext_ix\u001b[0m\u001b[0;34m]\u001b[0m\u001b[0;34m]\u001b[0m\u001b[0;34m,\u001b[0m \u001b[0mdtype\u001b[0m\u001b[0;34m=\u001b[0m\u001b[0mtorch\u001b[0m\u001b[0;34m.\u001b[0m\u001b[0mint64\u001b[0m\u001b[0;34m)\u001b[0m\u001b[0;34m\u001b[0m\u001b[0;34m\u001b[0m\u001b[0m\n\u001b[1;32m     11\u001b[0m         \u001b[0mx_sequence\u001b[0m \u001b[0;34m=\u001b[0m \u001b[0mtorch\u001b[0m\u001b[0;34m.\u001b[0m\u001b[0mcat\u001b[0m\u001b[0;34m(\u001b[0m\u001b[0;34m[\u001b[0m\u001b[0mx_sequence\u001b[0m\u001b[0;34m,\u001b[0m \u001b[0mnext_ix\u001b[0m\u001b[0;34m]\u001b[0m\u001b[0;34m,\u001b[0m \u001b[0mdim\u001b[0m\u001b[0;34m=\u001b[0m\u001b[0;36m1\u001b[0m\u001b[0;34m)\u001b[0m\u001b[0;34m\u001b[0m\u001b[0;34m\u001b[0m\u001b[0m\n\u001b[0;32m---> 12\u001b[0;31m         \u001b[0mprint\u001b[0m\u001b[0;34m(\u001b[0m\u001b[0mmodel\u001b[0m\u001b[0;34m.\u001b[0m\u001b[0mid_to_token\u001b[0m\u001b[0;34m[\u001b[0m\u001b[0mnext_ix\u001b[0m\u001b[0;34m]\u001b[0m\u001b[0;34m)\u001b[0m\u001b[0;34m\u001b[0m\u001b[0;34m\u001b[0m\u001b[0m\n\u001b[0m\u001b[1;32m     13\u001b[0m \u001b[0;34m\u001b[0m\u001b[0m\n\u001b[1;32m     14\u001b[0m     \u001b[0;32mreturn\u001b[0m \u001b[0;34m''\u001b[0m\u001b[0;34m.\u001b[0m\u001b[0mjoin\u001b[0m\u001b[0;34m(\u001b[0m\u001b[0;34m[\u001b[0m\u001b[0mmodel\u001b[0m\u001b[0;34m.\u001b[0m\u001b[0mid_to_token\u001b[0m\u001b[0;34m[\u001b[0m\u001b[0mix\u001b[0m\u001b[0;34m]\u001b[0m \u001b[0;32mfor\u001b[0m \u001b[0mix\u001b[0m \u001b[0;32min\u001b[0m \u001b[0mx_sequence\u001b[0m\u001b[0;34m.\u001b[0m\u001b[0mdata\u001b[0m\u001b[0;34m.\u001b[0m\u001b[0mnumpy\u001b[0m\u001b[0;34m(\u001b[0m\u001b[0;34m)\u001b[0m\u001b[0;34m[\u001b[0m\u001b[0;36m0\u001b[0m\u001b[0;34m]\u001b[0m\u001b[0;34m]\u001b[0m\u001b[0;34m)\u001b[0m\u001b[0;34m\u001b[0m\u001b[0;34m\u001b[0m\u001b[0m\n",
      "\u001b[0;31mKeyError\u001b[0m: tensor([[43]])"
     ]
    }
   ],
   "source": [
    "generate_sample(model, 'you ', length=10)"
   ]
  },
  {
   "cell_type": "code",
   "execution_count": null,
   "metadata": {},
   "outputs": [],
   "source": []
  },
  {
   "cell_type": "code",
   "execution_count": null,
   "metadata": {},
   "outputs": [],
   "source": []
  },
  {
   "cell_type": "code",
   "execution_count": null,
   "metadata": {},
   "outputs": [],
   "source": []
  },
  {
   "cell_type": "code",
   "execution_count": 4,
   "metadata": {},
   "outputs": [],
   "source": [
    "class RecurrentNeuralNetwork(nn.Module):\n",
    "    def __init__(self, tokens, embedding_size=16, hidden_dim_size=64, num_layers=1):\n",
    "        super(self.__class__,self).__init__()\n",
    "        self.tokens = tokens\n",
    "        self.token_to_id = dict([(y, x) for (x, y) in enumerate(self.tokens, 0)])\n",
    "        self.id_to_token = dict(enumerate(self.tokens, 0))\n",
    "        \n",
    "        self.embedding = nn.Embedding(len(self.tokens), embedding_size)\n",
    "        self.rnn = nn.LSTM(embedding_size, hidden_dim_size, num_layers=num_layers, batch_first=True)\n",
    "        self.rnn_to_logits = nn.Linear(hidden_dim_size, len(self.tokens))\n",
    "    \n",
    "    def forward(self, x):\n",
    "        assert isinstance(x.data, torch.LongTensor)\n",
    "        h_seq, _ = self.rnn(self.embedding(x))\n",
    "        next_logits = self.rnn_to_logits(h_seq)\n",
    "        next_logp = F.log_softmax(next_logits, dim=-1)\n",
    "        return next_logp"
   ]
  },
  {
   "cell_type": "code",
   "execution_count": null,
   "metadata": {},
   "outputs": [],
   "source": [
    "class TextDataset(torch.utils.data.IterableDataset):\n",
    "    def __init__(self, model, seq_length, step=1):\n",
    "        self.text = [model.token_to_id[char] for char in model.text]\n",
    "        self.seq_length = seq_length\n",
    "        self.step =step\n",
    "    \n",
    "    def __iter__(self):\n",
    "        self.idx = -self.step\n",
    "        return self\n",
    "    \n",
    "    def __next__(self):\n",
    "        self.idx += self.step\n",
    "        if self.idx <= len(self.text) - seq_length:\n",
    "            return self.text[self.idx : self.idx + seq_length]\n",
    "        else:\n",
    "            raise StopIteration\n",
    "\n",
    "\n",
    "seq_length = 16\n",
    "step = 16\n",
    "data_loader = torch.utils.data.DataLoader(TextDataset(new_model, seq_length, step), batch_size=32)"
   ]
  },
  {
   "cell_type": "code",
   "execution_count": null,
   "metadata": {},
   "outputs": [],
   "source": [
    "model = RecurrentNeuralNetwork(...)"
   ]
  },
  {
   "cell_type": "code",
   "execution_count": null,
   "metadata": {},
   "outputs": [],
   "source": [
    "opt = torch.optim.Adam(model.parameters())\n",
    "loss = nn.NLLLoss()\n",
    "\n",
    "def train_cycle(model, opt, loss, data_loader, history):\n",
    "    for data in data_loader:\n",
    "        opt.zero_grad()\n",
    "        batch_ix = torch.stack(data).transpose(0, 1)\n",
    "\n",
    "        logp_seq = model(batch_ix)\n",
    "\n",
    "        predictions_logp = logp_seq[:, :-1].reshape(-1, len(model.tokens))\n",
    "        actual_next_tokens = batch_ix[:, 1:].reshape(-1)\n",
    "\n",
    "        loss_res = loss(predictions_logp, actual_next_tokens)\n",
    "\n",
    "        # train with backprop\n",
    "        loss_res.backward()\n",
    "        opt.step()\n",
    "    history.append(loss_res.data)\n",
    "\n",
    "def generate_sample(model, seed_phrase, temperature=1.0):\n",
    "    x_sequence = [model.token_to_id[char] for char in seed_phrase]\n",
    "    x_sequence = torch.tensor([x_sequence])\n",
    "\n",
    "    while x_sequence[-1] != '\\n':\n",
    "        out = model(x_sequence)[:, -1, :]\n",
    "        p_next = F.softmax(out / temperature, dim=-1).data.numpy()[0]\n",
    "\n",
    "        next_ix = np.random.choice(len(model.tokens), p=p_next)\n",
    "        next_ix = torch.tensor([[next_ix]], dtype=torch.int64)\n",
    "        x_sequence = torch.cat([x_sequence, next_ix], dim=1)\n",
    "\n",
    "    return ''.join([model.id_to_token[ix] for ix in x_sequence.data.numpy()[0]])"
   ]
  }
 ],
 "metadata": {
  "kernelspec": {
   "display_name": "Python 3 (ipykernel)",
   "language": "python",
   "name": "python3"
  },
  "language_info": {
   "codemirror_mode": {
    "name": "ipython",
    "version": 3
   },
   "file_extension": ".py",
   "mimetype": "text/x-python",
   "name": "python",
   "nbconvert_exporter": "python",
   "pygments_lexer": "ipython3",
   "version": "3.9.1"
  }
 },
 "nbformat": 4,
 "nbformat_minor": 1
}
